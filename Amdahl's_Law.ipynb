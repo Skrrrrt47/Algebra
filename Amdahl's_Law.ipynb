{
  "nbformat": 4,
  "nbformat_minor": 0,
  "metadata": {
    "colab": {
      "name": "Amdahl's-Law.ipynb",
      "provenance": [],
      "collapsed_sections": [],
      "include_colab_link": true
    },
    "kernelspec": {
      "name": "python3",
      "display_name": "Python 3"
    },
    "language_info": {
      "name": "python"
    }
  },
  "cells": [
    {
      "cell_type": "markdown",
      "metadata": {
        "id": "view-in-github",
        "colab_type": "text"
      },
      "source": [
        "<a href=\"https://colab.research.google.com/github/Skrrrrt47/Algebra/blob/main/Amdahl's_Law.ipynb\" target=\"_parent\"><img src=\"https://colab.research.google.com/assets/colab-badge.svg\" alt=\"Open In Colab\"/></a>"
      ]
    },
    {
      "cell_type": "code",
      "execution_count": null,
      "metadata": {
        "colab": {
          "base_uri": "https://localhost:8080/"
        },
        "id": "1t9r0tDWMX2D",
        "outputId": "3d0a11f7-f428-4a79-ede8-2b3288ed82a4"
      },
      "outputs": [
        {
          "output_type": "stream",
          "name": "stdout",
          "text": [
            "Please enter the s (maximum speed improvement): 4\n",
            "Boucle 2048 pour s = 4: 1.1428571428571428\n",
            "Boucle 1024 pour s = 4: 1.0666666666666667\n",
            "Boucle 5120 pour s = 4: 1.4545454545454548\n",
            "Boucle 4096 pour s = 4: 1.333333333333333\n",
            "\n",
            "Now Calculing s from Smax\n",
            "Enter Smax improvement: 1.5\n",
            "Boucle 2048 pour smax = 1.5: -0.9999999999999996\n",
            "Boucle 1024 pour smax = 1.5: -0.3333333333333333\n",
            "Boucle 5120 pour smax = 1.5: 4.999999999999998\n",
            "Boucle 4096 pour smax = 1.5: -3002399751580330.5\n"
          ]
        }
      ],
      "source": [
        "loop1 = 2048 # Change here\n",
        "loop2 = 1024\n",
        "loop3 = 5120\n",
        "loop4 = 4096\n",
        "\n",
        "loop_total = loop1 + loop2 + loop3 + loop4\n",
        "\n",
        "s = input(\"Please enter the s (maximum speed improvement): \")\n",
        "\n",
        "def Smax(loop, s, loop_total):\n",
        "  p = float(loop) / float(loop_total)\n",
        "  return (1/((1 - float(p)) + (float(p) / float(s))))\n",
        "\n",
        "\n",
        "print(\"Boucle \" + str(loop1) + \" pour s = \" + str(s) + \": \" + str(Smax(loop1, s, loop_total)))\n",
        "print(\"Boucle \" + str(loop2) + \" pour s = \" + str(s) + \": \" + str(Smax(loop2, s, loop_total)))\n",
        "print(\"Boucle \" + str(loop3) + \" pour s = \" + str(s) + \": \" + str(Smax(loop3, s, loop_total)))\n",
        "print(\"Boucle \" + str(loop4) + \" pour s = \" + str(s) + \": \" + str(Smax(loop4, s, loop_total)))\n",
        "\n",
        "print()\n",
        "print(\"Now Calculing s from Smax\")\n",
        "smax = input(\"Enter Smax improvement: \")\n",
        "\n",
        "def Gets(loop, smax, loop_total):\n",
        "  p = float(loop) / float(loop_total)\n",
        "  return (float(p) / ((1 / float(smax))- (1 - float(p))))\n",
        "\n",
        "print(\"Boucle \" + str(loop1) + \" pour smax = \" + str(smax) + \": \" + str(Gets(loop1, smax, loop_total)))\n",
        "print(\"Boucle \" + str(loop2) + \" pour smax = \" + str(smax) + \": \" + str(Gets(loop2, smax, loop_total)))\n",
        "print(\"Boucle \" + str(loop3) + \" pour smax = \" + str(smax) + \": \" + str(Gets(loop3, smax, loop_total)))\n",
        "print(\"Boucle \" + str(loop4) + \" pour smax = \" + str(smax) + \": \" + str(Gets(loop4, smax, loop_total)))"
      ]
    },
    {
      "cell_type": "code",
      "source": [
        ""
      ],
      "metadata": {
        "id": "Wp8MPeUccQSj"
      },
      "execution_count": null,
      "outputs": []
    },
    {
      "cell_type": "code",
      "source": [
        ""
      ],
      "metadata": {
        "id": "R3FEbHJRMZ_w"
      },
      "execution_count": null,
      "outputs": []
    }
  ]
}